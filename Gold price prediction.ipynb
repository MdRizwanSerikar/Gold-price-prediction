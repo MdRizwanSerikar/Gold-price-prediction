{
 "cells": [
  {
   "cell_type": "markdown",
   "id": "4fc833ca",
   "metadata": {},
   "source": [
    "# GOLD PRICE PREDICTION"
   ]
  },
  {
   "cell_type": "code",
   "execution_count": 3,
   "id": "6dbbbf48",
   "metadata": {},
   "outputs": [],
   "source": [
    "import numpy as np\n",
    "import pandas as pd\n",
    "from matplotlib import pyplot as plt\n",
    "import seaborn as sns"
   ]
  },
  {
   "cell_type": "code",
   "execution_count": 12,
   "id": "8ebc21e8",
   "metadata": {},
   "outputs": [],
   "source": [
    "# loading the csv data to a pandas Dataframe\n",
    "gold=pd.read_csv('gld_price_data.csv')"
   ]
  },
  {
   "cell_type": "code",
   "execution_count": 13,
   "id": "962be4f9",
   "metadata": {},
   "outputs": [
    {
     "data": {
      "text/html": [
       "<div>\n",
       "<style scoped>\n",
       "    .dataframe tbody tr th:only-of-type {\n",
       "        vertical-align: middle;\n",
       "    }\n",
       "\n",
       "    .dataframe tbody tr th {\n",
       "        vertical-align: top;\n",
       "    }\n",
       "\n",
       "    .dataframe thead th {\n",
       "        text-align: right;\n",
       "    }\n",
       "</style>\n",
       "<table border=\"1\" class=\"dataframe\">\n",
       "  <thead>\n",
       "    <tr style=\"text-align: right;\">\n",
       "      <th></th>\n",
       "      <th>Date</th>\n",
       "      <th>SPX</th>\n",
       "      <th>GLD</th>\n",
       "      <th>USO</th>\n",
       "      <th>SLV</th>\n",
       "      <th>EUR/USD</th>\n",
       "    </tr>\n",
       "  </thead>\n",
       "  <tbody>\n",
       "    <tr>\n",
       "      <th>0</th>\n",
       "      <td>1/2/2008</td>\n",
       "      <td>1447.160034</td>\n",
       "      <td>84.860001</td>\n",
       "      <td>78.470001</td>\n",
       "      <td>15.180</td>\n",
       "      <td>1.471692</td>\n",
       "    </tr>\n",
       "    <tr>\n",
       "      <th>1</th>\n",
       "      <td>1/3/2008</td>\n",
       "      <td>1447.160034</td>\n",
       "      <td>85.570000</td>\n",
       "      <td>78.370003</td>\n",
       "      <td>15.285</td>\n",
       "      <td>1.474491</td>\n",
       "    </tr>\n",
       "    <tr>\n",
       "      <th>2</th>\n",
       "      <td>1/4/2008</td>\n",
       "      <td>1411.630005</td>\n",
       "      <td>85.129997</td>\n",
       "      <td>77.309998</td>\n",
       "      <td>15.167</td>\n",
       "      <td>1.475492</td>\n",
       "    </tr>\n",
       "    <tr>\n",
       "      <th>3</th>\n",
       "      <td>1/7/2008</td>\n",
       "      <td>1416.180054</td>\n",
       "      <td>84.769997</td>\n",
       "      <td>75.500000</td>\n",
       "      <td>15.053</td>\n",
       "      <td>1.468299</td>\n",
       "    </tr>\n",
       "    <tr>\n",
       "      <th>4</th>\n",
       "      <td>1/8/2008</td>\n",
       "      <td>1390.189941</td>\n",
       "      <td>86.779999</td>\n",
       "      <td>76.059998</td>\n",
       "      <td>15.590</td>\n",
       "      <td>1.557099</td>\n",
       "    </tr>\n",
       "  </tbody>\n",
       "</table>\n",
       "</div>"
      ],
      "text/plain": [
       "       Date          SPX        GLD        USO     SLV   EUR/USD\n",
       "0  1/2/2008  1447.160034  84.860001  78.470001  15.180  1.471692\n",
       "1  1/3/2008  1447.160034  85.570000  78.370003  15.285  1.474491\n",
       "2  1/4/2008  1411.630005  85.129997  77.309998  15.167  1.475492\n",
       "3  1/7/2008  1416.180054  84.769997  75.500000  15.053  1.468299\n",
       "4  1/8/2008  1390.189941  86.779999  76.059998  15.590  1.557099"
      ]
     },
     "execution_count": 13,
     "metadata": {},
     "output_type": "execute_result"
    }
   ],
   "source": [
    "# checking the first five rows in the Dataframe\n",
    "gold.head()"
   ]
  },
  {
   "cell_type": "code",
   "execution_count": 16,
   "id": "3a4ed367",
   "metadata": {},
   "outputs": [
    {
     "name": "stdout",
     "output_type": "stream",
     "text": [
      "<class 'pandas.core.frame.DataFrame'>\n",
      "RangeIndex: 2290 entries, 0 to 2289\n",
      "Data columns (total 6 columns):\n",
      " #   Column   Non-Null Count  Dtype  \n",
      "---  ------   --------------  -----  \n",
      " 0   Date     2290 non-null   object \n",
      " 1   SPX      2290 non-null   float64\n",
      " 2   GLD      2290 non-null   float64\n",
      " 3   USO      2290 non-null   float64\n",
      " 4   SLV      2290 non-null   float64\n",
      " 5   EUR/USD  2290 non-null   float64\n",
      "dtypes: float64(5), object(1)\n",
      "memory usage: 107.5+ KB\n"
     ]
    }
   ],
   "source": [
    "# getting some basic information of data\n",
    "gold.info()"
   ]
  },
  {
   "cell_type": "code",
   "execution_count": 17,
   "id": "78d917e7",
   "metadata": {},
   "outputs": [
    {
     "data": {
      "text/html": [
       "<div>\n",
       "<style scoped>\n",
       "    .dataframe tbody tr th:only-of-type {\n",
       "        vertical-align: middle;\n",
       "    }\n",
       "\n",
       "    .dataframe tbody tr th {\n",
       "        vertical-align: top;\n",
       "    }\n",
       "\n",
       "    .dataframe thead th {\n",
       "        text-align: right;\n",
       "    }\n",
       "</style>\n",
       "<table border=\"1\" class=\"dataframe\">\n",
       "  <thead>\n",
       "    <tr style=\"text-align: right;\">\n",
       "      <th></th>\n",
       "      <th>SPX</th>\n",
       "      <th>GLD</th>\n",
       "      <th>USO</th>\n",
       "      <th>SLV</th>\n",
       "      <th>EUR/USD</th>\n",
       "    </tr>\n",
       "  </thead>\n",
       "  <tbody>\n",
       "    <tr>\n",
       "      <th>count</th>\n",
       "      <td>2290.000000</td>\n",
       "      <td>2290.000000</td>\n",
       "      <td>2290.000000</td>\n",
       "      <td>2290.000000</td>\n",
       "      <td>2290.000000</td>\n",
       "    </tr>\n",
       "    <tr>\n",
       "      <th>mean</th>\n",
       "      <td>1654.315776</td>\n",
       "      <td>122.732875</td>\n",
       "      <td>31.842221</td>\n",
       "      <td>20.084997</td>\n",
       "      <td>1.283653</td>\n",
       "    </tr>\n",
       "    <tr>\n",
       "      <th>std</th>\n",
       "      <td>519.111540</td>\n",
       "      <td>23.283346</td>\n",
       "      <td>19.523517</td>\n",
       "      <td>7.092566</td>\n",
       "      <td>0.131547</td>\n",
       "    </tr>\n",
       "    <tr>\n",
       "      <th>min</th>\n",
       "      <td>676.530029</td>\n",
       "      <td>70.000000</td>\n",
       "      <td>7.960000</td>\n",
       "      <td>8.850000</td>\n",
       "      <td>1.039047</td>\n",
       "    </tr>\n",
       "    <tr>\n",
       "      <th>25%</th>\n",
       "      <td>1239.874969</td>\n",
       "      <td>109.725000</td>\n",
       "      <td>14.380000</td>\n",
       "      <td>15.570000</td>\n",
       "      <td>1.171313</td>\n",
       "    </tr>\n",
       "    <tr>\n",
       "      <th>50%</th>\n",
       "      <td>1551.434998</td>\n",
       "      <td>120.580002</td>\n",
       "      <td>33.869999</td>\n",
       "      <td>17.268500</td>\n",
       "      <td>1.303297</td>\n",
       "    </tr>\n",
       "    <tr>\n",
       "      <th>75%</th>\n",
       "      <td>2073.010070</td>\n",
       "      <td>132.840004</td>\n",
       "      <td>37.827501</td>\n",
       "      <td>22.882500</td>\n",
       "      <td>1.369971</td>\n",
       "    </tr>\n",
       "    <tr>\n",
       "      <th>max</th>\n",
       "      <td>2872.870117</td>\n",
       "      <td>184.589996</td>\n",
       "      <td>117.480003</td>\n",
       "      <td>47.259998</td>\n",
       "      <td>1.598798</td>\n",
       "    </tr>\n",
       "  </tbody>\n",
       "</table>\n",
       "</div>"
      ],
      "text/plain": [
       "               SPX          GLD          USO          SLV      EUR/USD\n",
       "count  2290.000000  2290.000000  2290.000000  2290.000000  2290.000000\n",
       "mean   1654.315776   122.732875    31.842221    20.084997     1.283653\n",
       "std     519.111540    23.283346    19.523517     7.092566     0.131547\n",
       "min     676.530029    70.000000     7.960000     8.850000     1.039047\n",
       "25%    1239.874969   109.725000    14.380000    15.570000     1.171313\n",
       "50%    1551.434998   120.580002    33.869999    17.268500     1.303297\n",
       "75%    2073.010070   132.840004    37.827501    22.882500     1.369971\n",
       "max    2872.870117   184.589996   117.480003    47.259998     1.598798"
      ]
     },
     "execution_count": 17,
     "metadata": {},
     "output_type": "execute_result"
    }
   ],
   "source": [
    "# getting the statistical measures of the data\n",
    "gold.describe()"
   ]
  },
  {
   "cell_type": "code",
   "execution_count": 8,
   "id": "2a41d82e",
   "metadata": {},
   "outputs": [
    {
     "data": {
      "text/html": [
       "<div>\n",
       "<style scoped>\n",
       "    .dataframe tbody tr th:only-of-type {\n",
       "        vertical-align: middle;\n",
       "    }\n",
       "\n",
       "    .dataframe tbody tr th {\n",
       "        vertical-align: top;\n",
       "    }\n",
       "\n",
       "    .dataframe thead th {\n",
       "        text-align: right;\n",
       "    }\n",
       "</style>\n",
       "<table border=\"1\" class=\"dataframe\">\n",
       "  <thead>\n",
       "    <tr style=\"text-align: right;\">\n",
       "      <th></th>\n",
       "      <th>Date</th>\n",
       "      <th>SPX</th>\n",
       "      <th>GLD</th>\n",
       "      <th>USO</th>\n",
       "      <th>SLV</th>\n",
       "      <th>EUR/USD</th>\n",
       "    </tr>\n",
       "  </thead>\n",
       "  <tbody>\n",
       "    <tr>\n",
       "      <th>2285</th>\n",
       "      <td>5/8/2018</td>\n",
       "      <td>2671.919922</td>\n",
       "      <td>124.589996</td>\n",
       "      <td>14.0600</td>\n",
       "      <td>15.5100</td>\n",
       "      <td>1.186789</td>\n",
       "    </tr>\n",
       "    <tr>\n",
       "      <th>2286</th>\n",
       "      <td>5/9/2018</td>\n",
       "      <td>2697.790039</td>\n",
       "      <td>124.330002</td>\n",
       "      <td>14.3700</td>\n",
       "      <td>15.5300</td>\n",
       "      <td>1.184722</td>\n",
       "    </tr>\n",
       "    <tr>\n",
       "      <th>2287</th>\n",
       "      <td>5/10/2018</td>\n",
       "      <td>2723.070068</td>\n",
       "      <td>125.180000</td>\n",
       "      <td>14.4100</td>\n",
       "      <td>15.7400</td>\n",
       "      <td>1.191753</td>\n",
       "    </tr>\n",
       "    <tr>\n",
       "      <th>2288</th>\n",
       "      <td>5/14/2018</td>\n",
       "      <td>2730.129883</td>\n",
       "      <td>124.489998</td>\n",
       "      <td>14.3800</td>\n",
       "      <td>15.5600</td>\n",
       "      <td>1.193118</td>\n",
       "    </tr>\n",
       "    <tr>\n",
       "      <th>2289</th>\n",
       "      <td>5/16/2018</td>\n",
       "      <td>2725.780029</td>\n",
       "      <td>122.543800</td>\n",
       "      <td>14.4058</td>\n",
       "      <td>15.4542</td>\n",
       "      <td>1.182033</td>\n",
       "    </tr>\n",
       "  </tbody>\n",
       "</table>\n",
       "</div>"
      ],
      "text/plain": [
       "           Date          SPX         GLD      USO      SLV   EUR/USD\n",
       "2285   5/8/2018  2671.919922  124.589996  14.0600  15.5100  1.186789\n",
       "2286   5/9/2018  2697.790039  124.330002  14.3700  15.5300  1.184722\n",
       "2287  5/10/2018  2723.070068  125.180000  14.4100  15.7400  1.191753\n",
       "2288  5/14/2018  2730.129883  124.489998  14.3800  15.5600  1.193118\n",
       "2289  5/16/2018  2725.780029  122.543800  14.4058  15.4542  1.182033"
      ]
     },
     "execution_count": 8,
     "metadata": {},
     "output_type": "execute_result"
    }
   ],
   "source": [
    "gold.tail()"
   ]
  },
  {
   "cell_type": "code",
   "execution_count": 15,
   "id": "18c5976b",
   "metadata": {},
   "outputs": [
    {
     "data": {
      "text/plain": [
       "(2290, 6)"
      ]
     },
     "execution_count": 15,
     "metadata": {},
     "output_type": "execute_result"
    }
   ],
   "source": [
    "# checking the rows and columns\n",
    "gold.shape"
   ]
  },
  {
   "cell_type": "code",
   "execution_count": 19,
   "id": "cdd6e021",
   "metadata": {},
   "outputs": [
    {
     "data": {
      "text/plain": [
       "Date       0\n",
       "SPX        0\n",
       "GLD        0\n",
       "USO        0\n",
       "SLV        0\n",
       "EUR/USD    0\n",
       "dtype: int64"
      ]
     },
     "execution_count": 19,
     "metadata": {},
     "output_type": "execute_result"
    }
   ],
   "source": [
    "# checking the number of missing values\n",
    "gold.isnull().sum()"
   ]
  },
  {
   "cell_type": "code",
   "execution_count": 22,
   "id": "87d4b888",
   "metadata": {},
   "outputs": [],
   "source": [
    "#correlation:\n",
    "    #1. positive correlation\n",
    "    #2. Negative correlation"
   ]
  },
  {
   "cell_type": "code",
   "execution_count": 25,
   "id": "f264909c",
   "metadata": {},
   "outputs": [],
   "source": [
    "correlation=gold.corr()"
   ]
  },
  {
   "cell_type": "code",
   "execution_count": 28,
   "id": "1ce8fedc",
   "metadata": {},
   "outputs": [
    {
     "data": {
      "text/plain": [
       "<AxesSubplot:>"
      ]
     },
     "execution_count": 28,
     "metadata": {},
     "output_type": "execute_result"
    },
    {
     "data": {
      "image/png": "[encoded data removed]",
      "text/plain": [
       "<Figure size 576x576 with 2 Axes>"
      ]
     },
     "metadata": {
      "needs_background": "light"
     },
     "output_type": "display_data"
    }
   ],
   "source": [
    "# constructing the heatmap to understand the correlation\n",
    "\n",
    "plt.figure(figsize=(8,8))\n",
    "sns.heatmap(correlation, cbar=True, square=True , fmt='.1f',annot=True, annot_kws={'size':8}, cmap='Blues')"
   ]
  },
  {
   "cell_type": "code",
   "execution_count": 30,
   "id": "ea6152b9",
   "metadata": {},
   "outputs": [
    {
     "name": "stdout",
     "output_type": "stream",
     "text": [
      "SPX        0.049345\n",
      "GLD        1.000000\n",
      "USO       -0.186360\n",
      "SLV        0.866632\n",
      "EUR/USD   -0.024375\n",
      "Name: GLD, dtype: float64\n"
     ]
    }
   ],
   "source": [
    "# correlation values of gold\n",
    "print(correlation['GLD'])"
   ]
  },
  {
   "cell_type": "code",
   "execution_count": 31,
   "id": "1453ff77",
   "metadata": {},
   "outputs": [],
   "source": [
    "# correlation the distribution of the GLD price"
   ]
  },
  {
   "cell_type": "code",
   "execution_count": 32,
   "id": "97991349",
   "metadata": {},
   "outputs": [
    {
     "name": "stderr",
     "output_type": "stream",
     "text": [
      "C:\\Users\\H_7\\.conda\\lib\\site-packages\\seaborn\\distributions.py:2619: FutureWarning: `distplot` is a deprecated function and will be removed in a future version. Please adapt your code to use either `displot` (a figure-level function with similar flexibility) or `histplot` (an axes-level function for histograms).\n",
      "  warnings.warn(msg, FutureWarning)\n"
     ]
    },
    {
     "data": {
      "text/plain": [
       "<AxesSubplot:xlabel='GLD', ylabel='Density'>"
      ]
     },
     "execution_count": 32,
     "metadata": {},
     "output_type": "execute_result"
    },
    {
     "data": {
      "image/png": "[encoded data removed]",
      "text/plain": [
       "<Figure size 432x288 with 1 Axes>"
      ]
     },
     "metadata": {
      "needs_background": "light"
     },
     "output_type": "display_data"
    }
   ],
   "source": [
    "sns.distplot(gold['GLD'],color='green')"
   ]
  },
  {
   "cell_type": "code",
   "execution_count": 33,
   "id": "00235c26",
   "metadata": {},
   "outputs": [],
   "source": [
    "# splitting the features and target"
   ]
  },
  {
   "cell_type": "code",
   "execution_count": 38,
   "id": "8d39f35a",
   "metadata": {},
   "outputs": [],
   "source": [
    "x= gold.drop(['Date',\"GLD\"],axis=1)\n",
    "y=gold['GLD']"
   ]
  },
  {
   "cell_type": "code",
   "execution_count": 39,
   "id": "1e431cdc",
   "metadata": {},
   "outputs": [
    {
     "name": "stdout",
     "output_type": "stream",
     "text": [
      "0        84.860001\n",
      "1        85.570000\n",
      "2        85.129997\n",
      "3        84.769997\n",
      "4        86.779999\n",
      "           ...    \n",
      "2285    124.589996\n",
      "2286    124.330002\n",
      "2287    125.180000\n",
      "2288    124.489998\n",
      "2289    122.543800\n",
      "Name: GLD, Length: 2290, dtype: float64\n"
     ]
    }
   ],
   "source": [
    "print(y)"
   ]
  },
  {
   "cell_type": "code",
   "execution_count": 40,
   "id": "af56ba44",
   "metadata": {},
   "outputs": [],
   "source": [
    "# splitting into traing and testing data"
   ]
  },
  {
   "cell_type": "code",
   "execution_count": 42,
   "id": "c178c036",
   "metadata": {},
   "outputs": [],
   "source": [
    "from sklearn.model_selection import train_test_split"
   ]
  },
  {
   "cell_type": "code",
   "execution_count": 43,
   "id": "3377c2c2",
   "metadata": {},
   "outputs": [],
   "source": [
    "x_train,x_test,y_train,y_test = train_test_split(x,y,test_size=0.2,random_state=2)"
   ]
  },
  {
   "cell_type": "code",
   "execution_count": 52,
   "id": "c75766ac",
   "metadata": {},
   "outputs": [],
   "source": [
    "from sklearn.ensemble import RandomForestRegressor"
   ]
  },
  {
   "cell_type": "code",
   "execution_count": 55,
   "id": "4bb87c65",
   "metadata": {},
   "outputs": [],
   "source": [
    "regressor=RandomForestRegressor()"
   ]
  },
  {
   "cell_type": "code",
   "execution_count": 56,
   "id": "72fbf4d8",
   "metadata": {},
   "outputs": [
    {
     "data": {
      "text/plain": [
       "RandomForestRegressor()"
      ]
     },
     "execution_count": 56,
     "metadata": {},
     "output_type": "execute_result"
    }
   ],
   "source": [
    "# training the model\n",
    "\n",
    "regressor.fit(x_train,y_train)"
   ]
  },
  {
   "cell_type": "code",
   "execution_count": 57,
   "id": "47dd73cb",
   "metadata": {},
   "outputs": [],
   "source": [
    "# predicting on test data"
   ]
  },
  {
   "cell_type": "code",
   "execution_count": 58,
   "id": "d140e653",
   "metadata": {},
   "outputs": [],
   "source": [
    "test_data_prediction=regressor.predict(x_test)"
   ]
  },
  {
   "cell_type": "code",
   "execution_count": 59,
   "id": "6ce5bf85",
   "metadata": {},
   "outputs": [
    {
     "name": "stdout",
     "output_type": "stream",
     "text": [
      "[168.52489944  82.01189969 116.02110009 127.60060047 120.64260141\n",
      " 154.77329724 150.25389823 126.30930026 117.54529886 125.97760072\n",
      " 116.44630119 171.45460054 141.60429889 167.81479853 115.28560007\n",
      " 117.62640047 137.98270324 170.01220037 159.33550263 159.71579975\n",
      " 155.20400034 125.1219004  176.03539955 157.05510287 125.12010052\n",
      "  93.83269963  77.61879975 120.64760001 119.20670011 167.53389951\n",
      "  88.41450064 125.22789973  91.09200091 117.68020041 121.27949881\n",
      " 136.85940101 115.60090111 115.09530075 147.90599917 106.85020117\n",
      " 104.45280255  87.15839798 126.52790035 117.90700024 154.44109893\n",
      " 119.78350016 108.48109978 108.04899816  93.32540056 127.13659774\n",
      "  74.72590051 113.76189966 121.29430002 111.17729918 118.87409899\n",
      " 120.51179997 159.52640068 166.11410124 146.94059673  85.85619872\n",
      "  94.17040045  86.78999854  90.48930008 119.0709007  126.42740071\n",
      " 127.5412004  170.38280037 122.22749949 117.5531991   98.80760019\n",
      " 168.95620148 143.02309822 131.73570309 121.32390241 120.98169924\n",
      " 119.80240044 114.19710164 118.47710072 106.78240109 127.97840142\n",
      " 114.14199985 107.29219999 116.77220083 119.61939855  89.10420105\n",
      "  88.26799869 146.62500167 127.00370025 113.43240012 110.18089882\n",
      " 108.30279904  76.85829921 168.72930175 114.03239904 121.60839907\n",
      " 128.03820267 155.01879796  91.76189921 137.69200077 159.6546029\n",
      " 125.42140055 125.19640087 130.62270209 114.56550135 120.02340002\n",
      "  92.03719985 110.22969888 168.98009987 158.5278992  114.29459964\n",
      " 106.73020128  79.83359982 113.26260031 125.88660059 107.39149935\n",
      " 119.43710113 155.38630268 160.05959906 120.34250003 134.47670314\n",
      " 101.5427997  117.35439798 119.29540013 112.92420083 102.78489945\n",
      " 160.34809773  99.02780044 148.97999896 125.35840081 169.08119936\n",
      " 125.77869861 127.22319813 127.51490163 113.68719896 112.45410069\n",
      " 123.43609923 102.24719899  89.25860002 124.52279968 101.52879933\n",
      " 107.09929922 113.30130042 116.97940033  98.96589919 121.80270021\n",
      " 163.14719917  87.41089848 106.63589984 117.03950106 127.72270151\n",
      " 124.14700061  80.6958989  120.27810067 157.89899815  88.16609975\n",
      " 110.1315996  118.78109903 171.95319925 103.01689883 105.42260047\n",
      " 122.2354004  158.38239791  87.70529847  93.25660043 112.74610038\n",
      " 177.53799977 114.4612997  119.23799976  94.67720063 125.71950042\n",
      " 166.57020164 114.62150043 116.56070162  88.29899859 149.01370116\n",
      " 120.32949958  89.4879998  112.16100015 116.98720049 118.68770108\n",
      "  88.03389931  93.99449959 117.08320031 118.55960191 120.39080069\n",
      " 126.73059843 121.90869967 149.81969997 164.11749973 118.55479981\n",
      " 120.4271014  151.32550019 118.81289929 172.63339926 105.44419929\n",
      " 104.93960152 149.25540114 113.57360079 124.84440133 147.43670014\n",
      " 119.55470162 115.30850012 112.64819998 113.48540184 141.98350138\n",
      " 118.07719765 102.97460026 115.91860131 103.75510183  98.86000043\n",
      " 117.30170075  90.66029998  91.49930049 153.4285985  102.68939962\n",
      " 154.52410069 114.4200014  139.24490083  90.13879863 115.4915998\n",
      " 115.33850004 122.98970059 121.75060009 165.58920204  92.89259967\n",
      " 135.47140088 121.37599955 120.66670078 104.57150028 142.31690235\n",
      " 121.8695991  116.66010042 113.46500037 127.34539737 122.50399959\n",
      " 125.77089956 121.24930015  86.91159889 132.31550192 144.54450209\n",
      "  92.54769965 159.12459955 159.4114028  126.06199918 163.98889955\n",
      " 108.88079954 109.83050088 103.68989832  94.31290113 127.71430247\n",
      " 107.2729005  162.2568003  121.74500025 131.9326997  130.61200205\n",
      " 160.57629956  90.04829919 174.70220223 127.90439957 126.7929986\n",
      "  86.53049976 124.5227993  150.5167973   89.64320003 106.8302\n",
      " 109.09029981  83.93869894 136.20589915 154.90900206 138.25010361\n",
      "  74.43670017 152.91530062 126.23819973 126.77400009 127.52649938\n",
      " 108.41689946 156.22230064 114.43570114 116.8197013  125.07849947\n",
      " 153.98700147 121.20519961 156.42369876  92.95310082 125.47730148\n",
      " 125.46520015  87.80270034  92.15799906 126.29199921 128.28590379\n",
      " 112.96050024 117.80259778 120.71500041 127.30909776 119.67010119\n",
      " 136.17740054  93.97999928 120.13060041 113.35360119  94.30849934\n",
      " 108.87069983  87.23739917 109.23819941  89.60819974  92.49680041\n",
      " 131.64290341 162.14429971  89.31900015 119.57280093 133.25620203\n",
      " 123.91899975 128.2236016  102.07139869  89.01619931 131.18070119\n",
      " 119.73560016 108.51669981 168.39510018 115.18800047  86.64369925\n",
      " 118.77570069  91.18229948 162.21070032 116.64190052 121.48629978\n",
      " 160.28389798 119.99979914 112.74659949 108.49169877 126.81759978\n",
      "  75.87950037 102.95109994 127.63340225 121.73729952  92.60440018\n",
      " 132.00240024 118.10690081 116.00630002 154.7104026  159.23500078\n",
      " 109.94729981 153.12479793 119.36440096 160.82580159 118.58250038\n",
      " 159.05899911 115.13309952 116.85010038 148.65809864 114.62880083\n",
      " 125.72549832 165.70669877 117.62850002 125.07039926 153.2149034\n",
      " 153.43640256 132.13060046 114.60340053 121.31590226 124.71460052\n",
      "  89.68550058 122.88149964 154.62240207 111.71400038 106.83649996\n",
      " 162.22840092 118.51009956 165.8794003  134.21090078 114.84679975\n",
      " 152.90419813 168.75320024 114.45300025 114.18050117 157.57959858\n",
      "  85.28439899 127.13430079 127.9675001  128.89209953 124.28400061\n",
      " 123.97400078  90.63090126 153.36449993  96.99739986 136.74299946\n",
      "  89.01409902 107.29870016 114.90539992 112.32100047 124.07399933\n",
      "  91.49009815 125.3698008  162.24539825 119.7745992  165.15850037\n",
      " 126.72429823 112.41049992 127.47159937  94.91149921  90.91789971\n",
      " 103.35159903 120.71929965  83.19339967 126.33380018 160.23080399\n",
      " 117.13170074 118.38599981 120.18309995 122.55019981 120.04820117\n",
      " 121.38180048 118.27640044 107.14189986 148.47670006 126.43299823\n",
      " 115.6874006   73.9406999  127.80920078 154.1858001  123.27660034\n",
      " 125.64450071  88.9773001  103.25249875 124.16560098 120.18390016\n",
      "  73.40370093 151.83589948 120.89450024 104.68580033  86.44989781\n",
      " 114.81599894 172.20609838 119.5435005  161.24579803 113.23039946\n",
      " 120.82770034 118.81620096  95.8837998  118.81760022 125.95110001\n",
      " 118.51429939  95.86060082 153.75030174 121.94790008 147.27230007\n",
      " 159.66590214 114.04990017 122.65169911 151.03149846 127.18460021\n",
      " 165.79530113 135.6946004  120.03999902 167.28889901 108.44489894\n",
      " 121.49209859 138.47600147 106.86059885]\n"
     ]
    }
   ],
   "source": [
    "print(test_data_prediction)"
   ]
  },
  {
   "cell_type": "code",
   "execution_count": 60,
   "id": "b9ef9a51",
   "metadata": {},
   "outputs": [],
   "source": [
    "from sklearn import metrics"
   ]
  },
  {
   "cell_type": "code",
   "execution_count": 61,
   "id": "cd10458d",
   "metadata": {},
   "outputs": [],
   "source": [
    "#  R squared error"
   ]
  },
  {
   "cell_type": "code",
   "execution_count": 62,
   "id": "a97bf42f",
   "metadata": {},
   "outputs": [],
   "source": [
    "error_score = metrics.r2_score(y_test,test_data_prediction)"
   ]
  },
  {
   "cell_type": "code",
   "execution_count": 63,
   "id": "43d21fbe",
   "metadata": {},
   "outputs": [
    {
     "name": "stdout",
     "output_type": "stream",
     "text": [
      "R squared error : 0.989631328706461\n"
     ]
    }
   ],
   "source": [
    "print(\"R squared error :\", error_score)"
   ]
  },
  {
   "cell_type": "code",
   "execution_count": 64,
   "id": "015974ad",
   "metadata": {},
   "outputs": [],
   "source": [
    "# compare the actual values and predicted values"
   ]
  },
  {
   "cell_type": "code",
   "execution_count": 69,
   "id": "31d2cf4b",
   "metadata": {},
   "outputs": [],
   "source": [
    "y_test = list(y_test)"
   ]
  },
  {
   "cell_type": "code",
   "execution_count": 70,
   "id": "f5c1b77a",
   "metadata": {},
   "outputs": [
    {
     "data": {
      "image/png": "[encoded data removed]",
      "text/plain": [
       "<Figure size 432x288 with 1 Axes>"
      ]
     },
     "metadata": {
      "needs_background": "light"
     },
     "output_type": "display_data"
    }
   ],
   "source": [
    "plt.plot(y_test,color='blue',label='Actual value')\n",
    "plt.plot(test_data_prediction, color='green',label='Predicted value')\n",
    "plt.title('Actual price vs Predicted price')\n",
    "plt.xlabel('Number of values')\n",
    "plt.ylabel('GLD price')\n",
    "plt.legend()\n",
    "plt.show()"
   ]
  },
  {
   "cell_type": "code",
   "execution_count": null,
   "id": "d6fe6ad7",
   "metadata": {},
   "outputs": [],
   "source": []
  }
 ],
 "metadata": {
  "kernelspec": {
   "display_name": "Python 3 (ipykernel)",
   "language": "python",
   "name": "python3"
  },
  "language_info": {
   "codemirror_mode": {
    "name": "ipython",
    "version": 3
   },
   "file_extension": ".py",
   "mimetype": "text/x-python",
   "name": "python",
   "nbconvert_exporter": "python",
   "pygments_lexer": "ipython3",
   "version": "3.9.12"
  }
 },
 "nbformat": 4,
 "nbformat_minor": 5
}
